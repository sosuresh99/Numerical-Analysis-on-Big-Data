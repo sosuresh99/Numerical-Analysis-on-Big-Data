{
 "cells": [
  {
   "cell_type": "markdown",
   "metadata": {},
   "source": [
    "# Programming Assignment - 2\n",
    "---\n",
    "## Name:\n",
    "---"
   ]
  },
  {
   "cell_type": "markdown",
   "metadata": {},
   "source": [
    "## Question 1\n",
    "---\n",
    "Modify the textual data example from class to convert the document-term matrix into TF-IDF (term-frequency inverse document frequency) matrix by using basic NumPy operations where\n",
    "\n",
    ">- Term-frequency (of a word in a document) is frequency of the word in a document divided by total number of words in the document.\n",
    "\n",
    ">- Inverse document frequency of a word (all documents under consideration) is the natural log of (total number of documents/number of documents having the given word).\n",
    "\n",
    ">- tf-idf(t, d) = tf(t,d)*idf(t) ; \n",
    "\n",
    "**Display the dense output for the tf-idf matrix for the example taken in class.**"
   ]
  },
  {
   "cell_type": "code",
   "execution_count": 1,
   "metadata": {},
   "outputs": [
    {
     "name": "stdout",
     "output_type": "stream",
     "text": [
      "[[0.         0.         0.         0.         0.         0.\n",
      "  0.         0.01168736 0.         0.         0.00431346 0.01168736\n",
      "  0.         0.         0.         0.         0.01168736 0.01168736\n",
      "  0.         0.01168736 0.         0.01168736 0.         0.\n",
      "  0.         0.         0.01168736 0.04674946 0.         0.\n",
      "  0.         0.         0.         0.01168736 0.         0.\n",
      "  0.         0.01168736 0.         0.01168736 0.01168736 0.01168736\n",
      "  0.02337473 0.         0.01168736 0.         0.01168736 0.\n",
      "  0.         0.00431346 0.01168736 0.         0.         0.\n",
      "  0.         0.01168736 0.         0.         0.00431346 0.01168736\n",
      "  0.         0.         0.         0.01168736 0.         0.01168736\n",
      "  0.01168736 0.         0.01168736 0.         0.01168736 0.\n",
      "  0.         0.         0.         0.01168736 0.         0.\n",
      "  0.01168736 0.         0.         0.01168736 0.         0.\n",
      "  0.00431346 0.         0.00862692 0.         0.         0.01168736\n",
      "  0.         0.         0.         0.         0.         0.01168736\n",
      "  0.00431346 0.         0.         0.         0.01168736 0.\n",
      "  0.         0.         0.         0.01168736 0.01168736 0.\n",
      "  0.         0.         0.         0.01168736 0.01168736 0.\n",
      "  0.01168736 0.         0.         0.         0.         0.01168736\n",
      "  0.01168736 0.         0.01168736 0.         0.01294038 0.01725383\n",
      "  0.01168736 0.         0.01168736 0.         0.03506209 0.01168736\n",
      "  0.00431346 0.         0.01168736 0.         0.01168736 0.01168736\n",
      "  0.         0.         0.00862692 0.         0.         0.02337473\n",
      "  0.01168736 0.         0.01168736 0.01168736 0.         0.01168736]\n",
      " [0.01077071 0.01077071 0.01077071 0.00397515 0.         0.\n",
      "  0.         0.         0.         0.         0.0079503  0.\n",
      "  0.01077071 0.01077071 0.00397515 0.01077071 0.         0.\n",
      "  0.         0.         0.         0.         0.01077071 0.\n",
      "  0.         0.01077071 0.         0.         0.         0.01077071\n",
      "  0.01077071 0.01077071 0.         0.         0.01077071 0.\n",
      "  0.01077071 0.         0.01077071 0.         0.         0.\n",
      "  0.         0.         0.         0.03231213 0.         0.\n",
      "  0.         0.         0.         0.         0.01077071 0.01077071\n",
      "  0.         0.         0.01077071 0.01077071 0.01192544 0.\n",
      "  0.         0.01077071 0.01077071 0.         0.01077071 0.\n",
      "  0.         0.         0.         0.         0.         0.01077071\n",
      "  0.         0.         0.01077071 0.         0.         0.\n",
      "  0.         0.02154142 0.         0.         0.01077071 0.01077071\n",
      "  0.00397515 0.01077071 0.0079503  0.02154142 0.         0.\n",
      "  0.         0.         0.01077071 0.00397515 0.02154142 0.\n",
      "  0.         0.01077071 0.         0.01077071 0.         0.01077071\n",
      "  0.         0.         0.01077071 0.         0.         0.\n",
      "  0.         0.         0.         0.         0.         0.00397515\n",
      "  0.         0.         0.03231213 0.01077071 0.01077071 0.\n",
      "  0.         0.01077071 0.         0.01077071 0.         0.\n",
      "  0.         0.01077071 0.         0.         0.         0.\n",
      "  0.01987574 0.         0.         0.         0.         0.\n",
      "  0.01077071 0.         0.0079503  0.01077071 0.         0.\n",
      "  0.         0.01590059 0.         0.         0.01077071 0.        ]\n",
      " [0.         0.         0.         0.00653976 0.01771955 0.01771955\n",
      "  0.         0.         0.         0.01771955 0.         0.\n",
      "  0.         0.         0.00653976 0.         0.         0.\n",
      "  0.         0.         0.01771955 0.         0.         0.\n",
      "  0.01771955 0.         0.         0.         0.01771955 0.\n",
      "  0.         0.         0.01771955 0.         0.         0.01771955\n",
      "  0.         0.         0.         0.         0.         0.\n",
      "  0.         0.         0.         0.         0.         0.\n",
      "  0.         0.00653976 0.         0.01771955 0.         0.\n",
      "  0.01771955 0.         0.         0.         0.         0.\n",
      "  0.01771955 0.         0.         0.         0.         0.\n",
      "  0.         0.01771955 0.         0.         0.         0.\n",
      "  0.         0.01771955 0.         0.         0.01771955 0.01771955\n",
      "  0.         0.         0.01771955 0.         0.         0.\n",
      "  0.         0.         0.         0.         0.         0.\n",
      "  0.01771955 0.01771955 0.         0.00653976 0.         0.\n",
      "  0.00653976 0.         0.01771955 0.         0.         0.\n",
      "  0.01771955 0.01771955 0.         0.         0.         0.01771955\n",
      "  0.01771955 0.01771955 0.01771955 0.         0.         0.00653976\n",
      "  0.         0.01771955 0.         0.         0.         0.\n",
      "  0.         0.         0.         0.         0.00653976 0.0326988\n",
      "  0.         0.         0.         0.         0.         0.\n",
      "  0.         0.01771955 0.         0.01771955 0.         0.\n",
      "  0.         0.         0.         0.         0.         0.\n",
      "  0.         0.00653976 0.         0.         0.         0.        ]]\n"
     ]
    }
   ],
   "source": [
    "# Your code comes here\n",
    "import numpy as np\n",
    "from sklearn.feature_extraction.text import CountVectorizer,ENGLISH_STOP_WORDS\n",
    "\n",
    "## Example Documents: Amazon review of Taco vs Burrito\n",
    "document1 = \" I bought this game as a gift for my 8 year old daughter who loves games. I was expecting lots of gross foods--but I was surprised at the inappropriate cards--eyeball, human burger, blood salsa, and fresh brains. Those are not foods that typical people find in their refrigerators. We do not practice cannibalism. She was very upset when I suggested that we just take out those cards. I seriously wonder who thinks that those cards are appropriate for kids. The rest of the game is funny, but I wish I would have looked through the cards before I gave it to her.\"\n",
    "document2 = \"Absolutely love Taco vs burrito. I️ bought it as a kickstarter. I️ originally bought this game because my husband and I️ love to play games with friends but most of them are not targeted to children so I️ got this to add to our collection so we had options when our friends with kids came. I’m not gonna lie I️ did No have high expectations for this to be a game for adult but I️ was Sooooo wrong!!!!!! We have now played with several different groups of friends and it’s a hit!!!!! With adults it becomes a major strategy game. I️ have Now bought it as a Christmas present bc it was so well received!!!!\"\n",
    "document3 = \" Unlike several of the reviewers here, I didn't purchase this originally for when kids are around. I bought it because of the reviews that said the adults all loved it too! I'm always on the lookout for games playable by 2 people and this was a great one. It's incredibly simple, but brings a lot of laughs with the competition and sabotage. I'm really glad I gave this game a chance.\"\n",
    "doc_list = [document1, document2, document3]\n",
    "\n",
    "## Create a bag of words\n",
    "vectorizer = CountVectorizer()\n",
    "bow = vectorizer.fit_transform(doc_list)\n",
    "tdMat = bow.toarray()#document-term matrix, just tells us frequency of each word\n",
    "\n",
    "#tf\n",
    "tf=np.zeros(np.shape(tdMat))\n",
    "tdMat_new=tdMat.astype(np.float)\n",
    "\n",
    "for i in range(len(doc_list)):\n",
    "    tf[[i],:]=(tdMat_new[[i],:]/tdMat_new[[i],:].sum())\n",
    "\n",
    "#idf\n",
    "B=np.where(tdMat>=1,1,0)\n",
    "C=np.sum(B,axis=0)\n",
    "idf=np.log(len(doc_list)/C)\n",
    "\n",
    "#tf-idf\n",
    "tf_idf =tf*idf\n",
    "#print(tf_idf)\n",
    "print(tf_idf)"
   ]
  },
  {
   "cell_type": "markdown",
   "metadata": {},
   "source": [
    "---\n",
    "## Question 2\n",
    "\n",
    "IRIS flower dataset is one of the widely used resources. Load the IRIS data by using following code\n",
    "\n",
    ">- Normalize this data by using z-scoring ($z  = (x - \\mu)/\\sigma$). Don't use loops. You can use np.mean(), np.std() and basic matrix operation with broadcasting. \n",
    "\n",
    ">- Visualize the distribution of the normalized data using Matplotlib or other packages. \n"
   ]
  },
  {
   "cell_type": "code",
   "execution_count": 7,
   "metadata": {},
   "outputs": [],
   "source": [
    "# Python code\n",
    "from sklearn import datasets\n",
    "iris = datasets.load_iris().data\n",
    "import matplotlib.pyplot as plt "
   ]
  },
  {
   "cell_type": "code",
   "execution_count": 8,
   "metadata": {},
   "outputs": [
    {
     "name": "stdout",
     "output_type": "stream",
     "text": [
      "(150, 4)\n"
     ]
    }
   ],
   "source": [
    "print(iris.shape)\n",
    "z=(iris-np.mean(iris,axis=0))/np.std(iris,axis=0)"
   ]
  },
  {
   "cell_type": "code",
   "execution_count": 10,
   "metadata": {},
   "outputs": [
    {
     "data": {
      "image/png": "[encoded data removed]",
      "text/plain": [
       "<Figure size 432x288 with 1 Axes>"
      ]
     },
     "metadata": {
      "needs_background": "light"
     },
     "output_type": "display_data"
    }
   ],
   "source": [
    "plt.hist(z)#histogram of all the columns combined\n",
    "plt.xlabel(\"Z score\")\n",
    "plt.ylabel(\"Frequency\")\n",
    "plt.title(\"Histogram of Z scores for Column \")\n",
    "plt.show()"
   ]
  },
  {
   "cell_type": "code",
   "execution_count": 11,
   "metadata": {},
   "outputs": [
    {
     "data": {
      "image/png": "[encoded data removed]",
      "text/plain": [
       "<Figure size 432x288 with 1 Axes>"
      ]
     },
     "metadata": {
      "needs_background": "light"
     },
     "output_type": "display_data"
    },
    {
     "data": {
      "image/png": "[encoded data removed]",
      "text/plain": [
       "<Figure size 432x288 with 1 Axes>"
      ]
     },
     "metadata": {
      "needs_background": "light"
     },
     "output_type": "display_data"
    },
    {
     "data": {
      "image/png": "[encoded data removed]",
      "text/plain": [
       "<Figure size 432x288 with 1 Axes>"
      ]
     },
     "metadata": {
      "needs_background": "light"
     },
     "output_type": "display_data"
    },
    {
     "data": {
      "image/png": "[encoded data removed]",
      "text/plain": [
       "<Figure size 432x288 with 1 Axes>"
      ]
     },
     "metadata": {
      "needs_background": "light"
     },
     "output_type": "display_data"
    }
   ],
   "source": [
    "#histogram for each column\n",
    "for i in range(4):\n",
    "    plt.hist(z[:,[i]],edgecolor='red')\n",
    "    plt.xlabel(\"Z score\")\n",
    "    plt.ylabel(\"Frequency\")\n",
    "    plt.title(\"Histogram of Z scores for Column \"+str(i)+\" \")\n",
    "    plt.show()"
   ]
  },
  {
   "cell_type": "code",
   "execution_count": null,
   "metadata": {},
   "outputs": [],
   "source": []
  }
 ],
 "metadata": {
  "kernelspec": {
   "display_name": "Python 3",
   "language": "python",
   "name": "python3"
  },
  "language_info": {
   "codemirror_mode": {
    "name": "ipython",
    "version": 3
   },
   "file_extension": ".py",
   "mimetype": "text/x-python",
   "name": "python",
   "nbconvert_exporter": "python",
   "pygments_lexer": "ipython3",
   "version": "3.8.3"
  }
 },
 "nbformat": 4,
 "nbformat_minor": 4
}
