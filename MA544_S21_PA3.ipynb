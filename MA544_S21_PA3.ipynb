{
 "cells": [
  {
   "cell_type": "markdown",
   "metadata": {},
   "source": [
    "# Programming Assignment - 3\n",
    "---\n",
    "\n",
    "## Name:\n"
   ]
  },
  {
   "cell_type": "code",
   "execution_count": 2,
   "metadata": {},
   "outputs": [],
   "source": [
    "#Import required packages here\n",
    "import numpy as np"
   ]
  },
  {
   "cell_type": "markdown",
   "metadata": {},
   "source": [
    "## Question 1\n",
    "\n",
    "Use the Gaussian elimination with scaled row-partial pivoting code to answer the following."
   ]
  },
  {
   "cell_type": "code",
   "execution_count": 3,
   "metadata": {},
   "outputs": [],
   "source": [
    "## Gaussian Elimination: Scaled Row Pivoting\n",
    "## This function is based on the pseudo-code on page-148 in the Text by Kincaid and Cheney\n",
    "def GE_srpp(A):\n",
    "    '''\n",
    "    This function returns the P'LU factorization of a square matrix A\n",
    "    by scaled row partial pivoting. \n",
    "    In place of returning L and U, elements of modified A are used to hold values of L and U.\n",
    "    '''\n",
    "    m,n = A.shape\n",
    "    swap=0;\n",
    "    \n",
    "    #L = np.eye(n) # Not being used\n",
    "    #U = np.zeros_like(A) # Not being used\n",
    "    #if m !=n:\n",
    "    #    sys.exit(\"This function needs a square matrix as an input.\")\n",
    "        \n",
    "    # The initial ordering of rows\n",
    "    p = list(range(n))\n",
    "    \n",
    "    # Scaling vector: absolute maximum elements of each row\n",
    "    s = np.max(np.abs(A), axis=1) # axis = 1 is for max along rows.\n",
    "    \n",
    "    print(\"permutation vector initialized: \",p)\n",
    "    \n",
    "    # Start the k-1 passes of Guassian Elimination on A\n",
    "    for k in range(n-1):\n",
    "        \n",
    "        \n",
    "        print(\"Scaling Vector: \",s)\n",
    "        # Find the pivot element and interchange the rows\n",
    "        pivot_index = k + np.argmax(np.abs(A[p[k:], k])/s[p[k:]])        \n",
    "        \n",
    "        # Interchange element in the permutation vector\n",
    "        if pivot_index !=k:\n",
    "            temp = p[k]\n",
    "            p[k]=p[pivot_index]\n",
    "            p[pivot_index] = temp\n",
    "            swap+=1;\n",
    "            print(\"permutation vector: \",p)\n",
    "            \n",
    "        print(\"\\n Pivot Element: {0:.2f} \\n\".format(A[p[k],k]))\n",
    "        if np.abs(A[p[k],k]) < 10**(-20):\n",
    "             sys.exit(\"ERROR!! Provided matrix is singular.\")\n",
    "        \n",
    "        # For the k-th pivot row Perform the Gaussian elimination on the following rows\n",
    "        for i in range(k+1, n):\n",
    "            # Find the multiplier\n",
    "            z = A[p[i],k]/A[p[k],k]\n",
    "            \n",
    "            #Save the multiplier z in A itself. You can save this in L also\n",
    "            A[p[i],k] = z\n",
    "            \n",
    "            #Elimination operation: Changes all elements in a row simultaneously\n",
    "            ##\n",
    "            A[p[i],k+1:] -= z*A[p[k],k+1:]\n",
    "            \n",
    "        print(\"\\n After PASS {}=========: \\n\".format(k+1), A)\n",
    "    return A, p, swap"
   ]
  },
  {
   "cell_type": "markdown",
   "metadata": {},
   "source": [
    ">- (A) Modify this code to write a function that solves a linear system Ax =b.  Test this in the case when   $𝑏=[3,1,1]^T$, and the matrix $A = [1~ 6 ~0; 2~ 1~ 0; 0 ~2~ 1]$. Only display the solution in the output."
   ]
  },
  {
   "cell_type": "code",
   "execution_count": 42,
   "metadata": {},
   "outputs": [
    {
     "name": "stdout",
     "output_type": "stream",
     "text": [
      "[0.27272727 0.45454545 0.09090909]\n"
     ]
    }
   ],
   "source": [
    "#Your code comes here\n",
    "def solve(y,z):\n",
    "    A=y.copy()\n",
    "    b=z.copy()\n",
    "    m,n = A.shape\n",
    "    x=np.zeros(n)\n",
    "    if m !=n:\n",
    "        sys.exit(\"This function needs a square matrix as an input.\")\n",
    "        \n",
    "    # The initial ordering of rows\n",
    "    p = list(range(n))\n",
    "    # Scaling vector: absolute maximum elements of each row\n",
    "    s = np.max(np.abs(A), axis=1)\n",
    "\n",
    "    # Start the k-1 passes of Guassian Elimination on A\n",
    "    for k in range(0,n-1):\n",
    "        s = np.max(np.abs(A), axis=1)\n",
    "        pivot_index = k + np.argmax(np.abs(A[p[k:], k])/s[p[k:]])   \n",
    "        #swap\n",
    "        if pivot_index !=k:\n",
    "            for i in range(0,m):\n",
    "                temp = A[pivot_index][i]\n",
    "                A[pivot_index][i]=A[k][i]\n",
    "                A[k][i] = temp\n",
    "        temp1=b[pivot_index]\n",
    "        b[pivot_index]=b[k]\n",
    "        b[k]=temp1\n",
    "        #apply multiplier\n",
    "        for i in range(k+1, n):\n",
    "            # Find the multiplier\n",
    "            z = A[p[i],k]/A[p[k],k]\n",
    "            b[i]=b[i]-z*b[k]\n",
    "            for j in range (0,m):\n",
    "                A[i][j]=A[i][j]-z*A[k][j]\n",
    "    new = A.shape[0]\n",
    "    x = np.zeros_like(b, dtype=float)\n",
    "    #Back-substitution\n",
    "    x[n-1] = b[n-1] / A[n-1,n-1]\n",
    "    for t in range(new-2,-1,-1):\n",
    "        known_sums = np.dot(A[t,t+1:],x[t+1:])\n",
    "        x[t] = (b[t] - known_sums) / A[t,t]\n",
    "    return x\n",
    "A = np.array([[1, 6, 0], [2,1,0], [0, 2, 1]], dtype=float)\n",
    "b=np.array([3,1,1],dtype=float)\n",
    "x=solve(A,b)\n",
    "print(x)"
   ]
  },
  {
   "cell_type": "markdown",
   "metadata": {},
   "source": [
    ">- (B) Modify this code to find the determinant of any square matrix A. Note that \n",
    "$$PA = LU \\Rightarrow \\text{det} A  = \\pm \\text{det} U .$$\n",
    "The sign depends of the number of row-swaps in the elimination process.  Use this code to find the determinant of any $10 \\times 10$ matrix that you randomly generate. Compare your result with the built-in NumPy method."
   ]
  },
  {
   "cell_type": "code",
   "execution_count": 40,
   "metadata": {},
   "outputs": [
    {
     "name": "stdout",
     "output_type": "stream",
     "text": [
      "901881596.9999996\n",
      "901881596.9999992\n"
     ]
    }
   ],
   "source": [
    "def LU_factorization(y):\n",
    "    A=y.copy()\n",
    "    m,n = A.shape\n",
    "    x=np.zeros(n)\n",
    "    if m !=n:\n",
    "        sys.exit(\"This function needs a square matrix as an input.\")\n",
    "        \n",
    "    # The initial ordering of rows\n",
    "    p = list(range(n))\n",
    "    # Scaling vector: absolute maximum elements of each row\n",
    "    s = np.max(np.abs(A), axis=1)\n",
    "    count=0\n",
    "    # Start the k-1 passes of Guassian Elimination on A\n",
    "    for k in range(0,n-1):\n",
    "        #removed swaps to avoid issues with negative and positive\n",
    "        #apply multiplier\n",
    "        for i in range(k+1, n):\n",
    "            # Find the multiplier\n",
    "            z = A[p[i],k]/A[p[k],k]\n",
    "            for j in range (0,m):\n",
    "                A[i][j]=A[i][j]-z*A[k][j]    \n",
    "    U=A.copy()\n",
    "    detU=float(1)\n",
    "    m,n=U.shape\n",
    "    for i in range(n):\n",
    "        for j in range(m):\n",
    "            if i==j:\n",
    "                detU=detU*U[i][j]\n",
    "    return detU,count\n",
    "A = np.array([[1, 6, 0], [2,1,0], [0, 2, 1]], dtype=float)\n",
    "B=np.array([[4,0,1,-3,1,3,4,1,9,4],[3,2,6,7,7,3,1,1,4,0],[5,5,5,9,7,9,6,7,6,0],[0,9,7,2,3,1,8,4,7,4],[7,8,7,2,8,2,5,3,1,5],\n",
    "[1,5,7,2,8,8,9,6,6,6],[6,6,8,3,2,9,6,4,6,9],[3,3,2,6,7,6,4,3,7,7],[9,3,9,8,8,3,9,1,4,9],[8,6,0,3,2,6,4,0,1,8]],dtype=float)\n",
    "detU,count=LU_factorization(B)\n",
    "#determinant of L always =1\n",
    "print(detU)\n",
    "print(np.linalg.det(B))\n"
   ]
  },
  {
   "cell_type": "markdown",
   "metadata": {},
   "source": [
    ">- (C) Modify the system-solver that you have created to find the inverse of a square matrix. Use this code to display the inverse of  A = [1 6 0; 2 1 0; 0 2 1]."
   ]
  },
  {
   "cell_type": "code",
   "execution_count": 46,
   "metadata": {},
   "outputs": [
    {
     "name": "stdout",
     "output_type": "stream",
     "text": [
      "[[-0.09090909  0.54545455  0.        ]\n",
      " [ 0.18181818 -0.09090909  0.        ]\n",
      " [-0.36363636  0.18181818  1.        ]]\n",
      " \n",
      "[[-0.09090909  0.54545455  0.        ]\n",
      " [ 0.18181818 -0.09090909  0.        ]\n",
      " [-0.36363636  0.18181818  1.        ]]\n"
     ]
    }
   ],
   "source": [
    "# Your code comes here\n",
    "\n",
    "def inverse(y):\n",
    "    A=y.copy()\n",
    "    m,n=A.shape\n",
    "    L=np.eye(n)\n",
    "    x=np.zeros_like(A)\n",
    "    for i in range(0,n):\n",
    "        b=np.array(L[i],dtype=float)\n",
    "        x[:,i]=solve(A,b)\n",
    "    return x\n",
    "A = np.array([[1, 6, 0], [2,1,0], [0, 2, 1]], dtype=float)\n",
    "print(inverse(A))\n",
    "print(' ')\n",
    "print(np.linalg.inv(A))"
   ]
  },
  {
   "cell_type": "code",
   "execution_count": null,
   "metadata": {},
   "outputs": [],
   "source": []
  }
 ],
 "metadata": {
  "kernelspec": {
   "display_name": "Python 3",
   "language": "python",
   "name": "python3"
  },
  "language_info": {
   "codemirror_mode": {
    "name": "ipython",
    "version": 3
   },
   "file_extension": ".py",
   "mimetype": "text/x-python",
   "name": "python",
   "nbconvert_exporter": "python",
   "pygments_lexer": "ipython3",
   "version": "3.8.3"
  }
 },
 "nbformat": 4,
 "nbformat_minor": 4
}
