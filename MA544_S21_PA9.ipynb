{
 "cells": [
  {
   "cell_type": "markdown",
   "metadata": {},
   "source": [
    "# Programming Assignment - 9\n",
    "---\n",
    "## Name:\n",
    "---"
   ]
  },
  {
   "cell_type": "code",
   "execution_count": 45,
   "metadata": {},
   "outputs": [],
   "source": [
    "# Import required packages\n",
    "\n",
    "from __future__ import print_function\n",
    "from __future__ import division \n",
    "\n",
    "import pandas as pd\n",
    "import numpy as np\n",
    "\n",
    "from sklearn.linear_model import LinearRegression,LogisticRegression\n",
    "from sklearn.model_selection import train_test_split\n",
    "from sklearn.preprocessing import MinMaxScaler, StandardScaler\n",
    "from sklearn.metrics import confusion_matrix, classification_report\n",
    "\n",
    "%matplotlib inline\n",
    "import matplotlib.pyplot as plt\n",
    "import seaborn as sns\n"
   ]
  },
  {
   "cell_type": "markdown",
   "metadata": {},
   "source": [
    "## Question 1\n",
    "---\n",
    "Set up a linear regression model for the miles per gallon on the data at automobile [UCI](https://archive.ics.uci.edu/ml/machine-learning-databases/auto-mpg/).  Discard the categorical data.\n",
    "\n",
    ">1. Get feature matrix X, and target variable y.\n",
    ">1. Split data into training and testing.\n",
    ">1. Normalize data using MinMaxScaler.\n",
    ">1. Creat a LinearRegression object for modeling.\n",
    ">1. Train the model with training data.\n",
    ">1. Look at R^2 score for the goodness of fit for the train and test data.\n",
    ">1. Present a graphical comparison of true and observed responses for the test data."
   ]
  },
  {
   "cell_type": "code",
   "execution_count": 26,
   "metadata": {},
   "outputs": [
    {
     "data": {
      "text/html": [
       "<div>\n",
       "<style scoped>\n",
       "    .dataframe tbody tr th:only-of-type {\n",
       "        vertical-align: middle;\n",
       "    }\n",
       "\n",
       "    .dataframe tbody tr th {\n",
       "        vertical-align: top;\n",
       "    }\n",
       "\n",
       "    .dataframe thead th {\n",
       "        text-align: right;\n",
       "    }\n",
       "</style>\n",
       "<table border=\"1\" class=\"dataframe\">\n",
       "  <thead>\n",
       "    <tr style=\"text-align: right;\">\n",
       "      <th></th>\n",
       "      <th>mpg</th>\n",
       "      <th>cylinders</th>\n",
       "      <th>displacement</th>\n",
       "      <th>weight</th>\n",
       "      <th>acceleration</th>\n",
       "      <th>model year</th>\n",
       "      <th>origin</th>\n",
       "    </tr>\n",
       "  </thead>\n",
       "  <tbody>\n",
       "    <tr>\n",
       "      <th>0</th>\n",
       "      <td>18.0</td>\n",
       "      <td>8</td>\n",
       "      <td>307.0</td>\n",
       "      <td>3504.0</td>\n",
       "      <td>12.0</td>\n",
       "      <td>70</td>\n",
       "      <td>1</td>\n",
       "    </tr>\n",
       "    <tr>\n",
       "      <th>1</th>\n",
       "      <td>15.0</td>\n",
       "      <td>8</td>\n",
       "      <td>350.0</td>\n",
       "      <td>3693.0</td>\n",
       "      <td>11.5</td>\n",
       "      <td>70</td>\n",
       "      <td>1</td>\n",
       "    </tr>\n",
       "    <tr>\n",
       "      <th>2</th>\n",
       "      <td>18.0</td>\n",
       "      <td>8</td>\n",
       "      <td>318.0</td>\n",
       "      <td>3436.0</td>\n",
       "      <td>11.0</td>\n",
       "      <td>70</td>\n",
       "      <td>1</td>\n",
       "    </tr>\n",
       "    <tr>\n",
       "      <th>3</th>\n",
       "      <td>16.0</td>\n",
       "      <td>8</td>\n",
       "      <td>304.0</td>\n",
       "      <td>3433.0</td>\n",
       "      <td>12.0</td>\n",
       "      <td>70</td>\n",
       "      <td>1</td>\n",
       "    </tr>\n",
       "    <tr>\n",
       "      <th>4</th>\n",
       "      <td>17.0</td>\n",
       "      <td>8</td>\n",
       "      <td>302.0</td>\n",
       "      <td>3449.0</td>\n",
       "      <td>10.5</td>\n",
       "      <td>70</td>\n",
       "      <td>1</td>\n",
       "    </tr>\n",
       "  </tbody>\n",
       "</table>\n",
       "</div>"
      ],
      "text/plain": [
       "    mpg  cylinders  displacement  weight  acceleration  model year  origin\n",
       "0  18.0          8         307.0  3504.0          12.0          70       1\n",
       "1  15.0          8         350.0  3693.0          11.5          70       1\n",
       "2  18.0          8         318.0  3436.0          11.0          70       1\n",
       "3  16.0          8         304.0  3433.0          12.0          70       1\n",
       "4  17.0          8         302.0  3449.0          10.5          70       1"
      ]
     },
     "execution_count": 26,
     "metadata": {},
     "output_type": "execute_result"
    }
   ],
   "source": [
    "# Your code comes here\n",
    "#url = \"https://archive.ics.uci.edu/ml/datasets/Breast+Cancer+Wisconsin+%28Original%29\"\n",
    "col_names = ['mpg','cylinders','displacement','horsepower','weight','acceleration','model year','origin','car name'] #Names\n",
    "df=pd.read_fwf(\"auto-mpg.data\",names=col_names,sep=',')\n",
    "del df['horsepower']\n",
    "del df['car name']\n",
    "df.head()"
   ]
  },
  {
   "cell_type": "code",
   "execution_count": 27,
   "metadata": {},
   "outputs": [
    {
     "name": "stdout",
     "output_type": "stream",
     "text": [
      "     cylinders  displacement  weight  acceleration  model year  origin\n",
      "0            8         307.0  3504.0          12.0          70       1\n",
      "1            8         350.0  3693.0          11.5          70       1\n",
      "2            8         318.0  3436.0          11.0          70       1\n",
      "3            8         304.0  3433.0          12.0          70       1\n",
      "4            8         302.0  3449.0          10.5          70       1\n",
      "..         ...           ...     ...           ...         ...     ...\n",
      "393          4         140.0  2790.0          15.6          82       1\n",
      "394          4          97.0  2130.0          24.6          82       2\n",
      "395          4         135.0  2295.0          11.6          82       1\n",
      "396          4         120.0  2625.0          18.6          82       1\n",
      "397          4         119.0  2720.0          19.4          82       1\n",
      "\n",
      "[398 rows x 6 columns]\n"
     ]
    }
   ],
   "source": [
    "#Get feature matrix X, and target variable y.\n",
    "X = df.iloc[:, 1:]\n",
    "y = df.iloc[:, 0]\n",
    "print(X)"
   ]
  },
  {
   "cell_type": "code",
   "execution_count": 6,
   "metadata": {},
   "outputs": [],
   "source": [
    "#Split data into training and testing.\n",
    "X_train, X_test, y_train, y_test  = train_test_split(X, y, test_size=0.3, random_state=100)"
   ]
  },
  {
   "cell_type": "code",
   "execution_count": 7,
   "metadata": {},
   "outputs": [],
   "source": [
    "#Normalize data using MinMaxScaler.\n",
    "normalizer = MinMaxScaler()\n",
    "normalizer.fit(X_train)\n",
    "X_train_n = normalizer.transform(X_train)\n",
    "X_test_n = normalizer.transform(X_test) "
   ]
  },
  {
   "cell_type": "code",
   "execution_count": 8,
   "metadata": {},
   "outputs": [],
   "source": [
    "#Creat a LinearRegression object for modeling.\n",
    "linreg = LinearRegression()"
   ]
  },
  {
   "cell_type": "code",
   "execution_count": 9,
   "metadata": {},
   "outputs": [
    {
     "data": {
      "text/plain": [
       "LinearRegression()"
      ]
     },
     "execution_count": 9,
     "metadata": {},
     "output_type": "execute_result"
    }
   ],
   "source": [
    "#Train the model with training data.\n",
    "linreg = LinearRegression()\n",
    "linreg.fit(X_train_n, y_train)"
   ]
  },
  {
   "cell_type": "code",
   "execution_count": 10,
   "metadata": {},
   "outputs": [
    {
     "name": "stdout",
     "output_type": "stream",
     "text": [
      "0.8156087992251562\n",
      "0.8320201841904361\n"
     ]
    }
   ],
   "source": [
    "#Look at R^2 score for the goodness of fit for the train and test data.\n",
    "print (linreg.score(X_train_n, y_train))\n",
    "print (linreg.score(X_test_n, y_test))"
   ]
  },
  {
   "cell_type": "code",
   "execution_count": 15,
   "metadata": {},
   "outputs": [
    {
     "data": {
      "image/png": "[encoded data removed]",
      "text/plain": [
       "<Figure size 432x432 with 1 Axes>"
      ]
     },
     "metadata": {
      "needs_background": "light"
     },
     "output_type": "display_data"
    }
   ],
   "source": [
    "#Present a graphical comparison of true and observed responses for the test data.\n",
    "y_pred = linreg.predict(X_test)\n",
    "fig, ax = plt.subplots()\n",
    "fig.set_size_inches(6,6)\n",
    "ax.scatter(y_test, y_pred, edgecolors=(0, 0, 0))\n",
    "z=np.polyfit(y_test,y_pred,1)\n",
    "p=np.poly1d(z)\n",
    "ax.plot(y_test,p(y_test),'--r')\n",
    "ax.set_xlabel('True Values')\n",
    "ax.set_ylabel('Predicted')\n",
    "plt.show()"
   ]
  },
  {
   "cell_type": "markdown",
   "metadata": {},
   "source": [
    "## Question 2\n",
    "---\n",
    "Setup a logistic regression model on the data at [adultUCI](http://archive.ics.uci.edu/ml/datasets/Adult).  Discuss the performance of your model using appropriate statistics. Use dummy variables to handle categorical variables. \n",
    "\n",
    "1. Prepare the data. Create dummy variables for categorical variables. [See this](https://queirozf.com/entries/one-hot-encoding-a-feature-on-a-pandas-dataframe-an-example)\n",
    "2. Get feature matrix X, and target variable y (>50k or <50k)\n",
    "3. Split data into training and testing\n",
    "4. Normalize data using MinMaxScaler\n",
    "5. Creat a LogisticRegression object for modeling\n",
    "6. Train the model with training data\n",
    "7. Compare the precision, recall, and F1-score on the train and test data."
   ]
  },
  {
   "cell_type": "code",
   "execution_count": 31,
   "metadata": {},
   "outputs": [],
   "source": [
    "# Your code comes here\n",
    "\n",
    "col_names = ['age','workclass','fnlwgt','education','education_num','martial_status','occupation','relationship',\n",
    "            'race','sex','capital_gain','capital_loss','hours_per_week','native-country','salary'] #Names\n",
    "df=pd.read_csv(\"adult.data\",names=col_names,sep=',')"
   ]
  },
  {
   "cell_type": "code",
   "execution_count": 32,
   "metadata": {},
   "outputs": [],
   "source": [
    "#Prepare the data. Create dummy variables for categorical variables\n",
    "df = pd.concat([df,pd.get_dummies(df['workclass'], prefix='workclass')],axis=1)\n",
    "df.drop(['workclass'],axis=1, inplace=True)\n",
    "\n",
    "df = pd.concat([df,pd.get_dummies(df['fnlwgt'], prefix='fnlwgt')],axis=1)\n",
    "df.drop(['fnlwgt'],axis=1, inplace=True)\n",
    "\n",
    "df = pd.concat([df,pd.get_dummies(df['martial_status'], prefix='martial_status')],axis=1)\n",
    "df.drop(['martial_status'],axis=1, inplace=True)\n",
    "\n",
    "df = pd.concat([df,pd.get_dummies(df['occupation'], prefix='occupation')],axis=1)\n",
    "df.drop(['occupation'],axis=1, inplace=True)\n",
    "\n",
    "df = pd.concat([df,pd.get_dummies(df['relationship'], prefix='relationship')],axis=1)\n",
    "df.drop(['relationship'],axis=1, inplace=True)\n",
    "\n",
    "df = pd.concat([df,pd.get_dummies(df['race'], prefix='race')],axis=1)\n",
    "df.drop(['race'],axis=1, inplace=True)\n",
    "\n",
    "df = pd.concat([df,pd.get_dummies(df['sex'], prefix='sex')],axis=1)\n",
    "df.drop(['sex'],axis=1, inplace=True)\n",
    "\n",
    "df = pd.concat([df,pd.get_dummies(df['native-country'], prefix='native-country')],axis=1)\n",
    "df.drop(['native-country'],axis=1, inplace=True)\n",
    "\n",
    "df = pd.concat([df,pd.get_dummies(df['salary'], prefix='salary')],axis=1)\n",
    "df.drop(['salary'],axis=1, inplace=True)\n",
    "\n",
    "df = pd.concat([df,pd.get_dummies(df['education'], prefix='education')],axis=1)\n",
    "df.drop(['education'],axis=1, inplace=True)\n"
   ]
  },
  {
   "cell_type": "code",
   "execution_count": 33,
   "metadata": {},
   "outputs": [
    {
     "data": {
      "text/plain": [
       "age                        int64\n",
       "education_num              int64\n",
       "capital_gain               int64\n",
       "capital_loss               int64\n",
       "hours_per_week             int64\n",
       "                           ...  \n",
       "education_ HS-grad         uint8\n",
       "education_ Masters         uint8\n",
       "education_ Preschool       uint8\n",
       "education_ Prof-school     uint8\n",
       "education_ Some-college    uint8\n",
       "Length: 21757, dtype: object"
      ]
     },
     "execution_count": 33,
     "metadata": {},
     "output_type": "execute_result"
    }
   ],
   "source": [
    "df.dtypes"
   ]
  },
  {
   "cell_type": "code",
   "execution_count": 34,
   "metadata": {},
   "outputs": [],
   "source": [
    "#Get feature matrix X, and target variable y (>50k or <50k)\n",
    "X=df.iloc[:, :-1]\n",
    "y = df[\"salary_ >50K\"]"
   ]
  },
  {
   "cell_type": "code",
   "execution_count": 35,
   "metadata": {},
   "outputs": [],
   "source": [
    "#Split data into training and testingSplit data into training and testing\n",
    "X_train, X_test, y_train, y_test  = train_test_split(X, y, test_size=0.3, random_state=100)"
   ]
  },
  {
   "cell_type": "code",
   "execution_count": 36,
   "metadata": {},
   "outputs": [],
   "source": [
    "#Normalize data using MinMaxScaler\n",
    "scaler =MinMaxScaler()\n",
    "scaler.fit(X_train)\n",
    "X_train_n = scaler.transform(X_train)\n",
    "X_test_n = scaler.transform(X_test)"
   ]
  },
  {
   "cell_type": "code",
   "execution_count": 39,
   "metadata": {},
   "outputs": [],
   "source": [
    "#Creat a LogisticRegression object for modeling\n",
    "lrc = LogisticRegression(C=1.0, max_iter=1000, tol=0.00001)"
   ]
  },
  {
   "cell_type": "code",
   "execution_count": 41,
   "metadata": {},
   "outputs": [
    {
     "data": {
      "text/plain": [
       "LogisticRegression(max_iter=1000, tol=1e-05)"
      ]
     },
     "execution_count": 41,
     "metadata": {},
     "output_type": "execute_result"
    }
   ],
   "source": [
    "#Train the model with training data\n",
    "lrc.fit(X_train_n, y_train)"
   ]
  },
  {
   "cell_type": "code",
   "execution_count": 46,
   "metadata": {},
   "outputs": [
    {
     "name": "stdout",
     "output_type": "stream",
     "text": [
      "[[7428    0]\n",
      " [   0 2341]]\n",
      "              precision    recall  f1-score   support\n",
      "\n",
      "           0       1.00      1.00      1.00      7428\n",
      "           1       1.00      1.00      1.00      2341\n",
      "\n",
      "    accuracy                           1.00      9769\n",
      "   macro avg       1.00      1.00      1.00      9769\n",
      "weighted avg       1.00      1.00      1.00      9769\n",
      "\n"
     ]
    }
   ],
   "source": [
    "#Compare the precision, recall, and F1-score on the train and test data.\n",
    "conf_matrix = confusion_matrix(y_test,lrc.predict(X_test_n))\n",
    "print (conf_matrix)\n",
    "class_report = classification_report(y_test,lrc.predict(X_test_n))\n",
    "print (class_report)"
   ]
  },
  {
   "cell_type": "code",
   "execution_count": null,
   "metadata": {},
   "outputs": [],
   "source": []
  }
 ],
 "metadata": {
  "kernelspec": {
   "display_name": "Python 3",
   "language": "python",
   "name": "python3"
  },
  "language_info": {
   "codemirror_mode": {
    "name": "ipython",
    "version": 3
   },
   "file_extension": ".py",
   "mimetype": "text/x-python",
   "name": "python",
   "nbconvert_exporter": "python",
   "pygments_lexer": "ipython3",
   "version": "3.8.3"
  }
 },
 "nbformat": 4,
 "nbformat_minor": 4
}
